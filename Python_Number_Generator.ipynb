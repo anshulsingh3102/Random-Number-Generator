{
  "nbformat": 4,
  "nbformat_minor": 0,
  "metadata": {
    "colab": {
      "provenance": [],
      "authorship_tag": "ABX9TyO79qYaVdwXL0USMQv05Mwr",
      "include_colab_link": true
    },
    "kernelspec": {
      "name": "python3",
      "display_name": "Python 3"
    },
    "language_info": {
      "name": "python"
    }
  },
  "cells": [
    {
      "cell_type": "markdown",
      "metadata": {
        "id": "view-in-github",
        "colab_type": "text"
      },
      "source": [
        "<a href=\"https://colab.research.google.com/github/anshulsingh3102/Random-Number-Generator/blob/main/Python_Number_Generator.ipynb\" target=\"_parent\"><img src=\"https://colab.research.google.com/assets/colab-badge.svg\" alt=\"Open In Colab\"/></a>"
      ]
    },
    {
      "cell_type": "code",
      "execution_count": 1,
      "metadata": {
        "colab": {
          "base_uri": "https://localhost:8080/"
        },
        "id": "OMEzix_M8ep-",
        "outputId": "76791234-8f2d-4d89-c05a-487e3aa7d52e"
      },
      "outputs": [
        {
          "output_type": "stream",
          "name": "stdout",
          "text": [
            "Enter Start Range: 14\n",
            "Enter End Range: 21\n",
            "\n",
            "\n",
            "Range is (14, 21) and randomly picked number is 17\n",
            "17 is an odd number \n",
            "This is positive Number\n",
            "17 is a prime number \n"
          ]
        }
      ],
      "source": [
        "import random\n",
        "def prime (x):\n",
        "    for i in range(2,x):\n",
        "        if(x%i==0):\n",
        "            return False\n",
        "        return True\n",
        "\n",
        "a=int(input(\"Enter Start Range: \"))\n",
        "b=int(input(\"Enter End Range: \"))\n",
        "x=random.randint(a, b)\n",
        "print(\"\\n\")\n",
        "print(\"Range is (%d, %d) and randomly picked number is %d\"%(a, b, x))\n",
        "if(x%2==0):\n",
        "    print(\"%d is an even number \"%x)\n",
        "else:\n",
        "    print(\"%d is an odd number \"%x)\n",
        "if x>0:\n",
        "    print(\"This is positive Number\")\n",
        "else:\n",
        "    print(\"This is Negative Number\")\n",
        "if(x==1):\n",
        "    print(\"1 is neither a prime number nor composite number\")\n",
        "elif (prime (x)):\n",
        "    print(\"%d is a prime number \"%x)\n",
        "else:\n",
        "    print(\"%d is a composite number\"%x)\n"
      ]
    }
  ]
}